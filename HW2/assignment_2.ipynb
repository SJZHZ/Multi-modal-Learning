{
  "cells": [
    {
      "cell_type": "markdown",
      "metadata": {
        "colab_type": "text",
        "id": "view-in-github"
      },
      "source": [
        "<a href=\"https://colab.research.google.com/github/SJZHZ/Multi-modal-Learning/blob/main/assignment_2.ipynb\" target=\"_parent\"><img src=\"https://colab.research.google.com/assets/colab-badge.svg\" alt=\"Open In Colab\"/></a>"
      ]
    },
    {
      "cell_type": "markdown",
      "metadata": {
        "id": "00iMtrQaVkW-"
      },
      "source": [
        "# Assignment 2\n",
        "You will tackle with a sentiment classification task using LSTM model and attention mechanism in this assigment."
      ]
    },
    {
      "cell_type": "markdown",
      "metadata": {
        "id": "GS0Y5IA2T58y"
      },
      "source": [
        "# Dependencies\n",
        "Please make sure that you are using **GPU** to accelarate computation.\n",
        "\n",
        "Colab FAQ: https://research.google.com/colaboratory/faq.html"
      ]
    },
    {
      "cell_type": "markdown",
      "metadata": {
        "id": "KVAMnQR8xflq"
      },
      "source": [
        "## Import dependencies"
      ]
    },
    {
      "cell_type": "code",
      "execution_count": null,
      "metadata": {
        "id": "6Kk2dEh8--MH"
      },
      "outputs": [],
      "source": [
        "import torch\n",
        "import os\n",
        "import collections\n",
        "from torch import nn\n",
        "from torch.utils.data import TensorDataset, DataLoader\n",
        "import torch.nn.functional as F\n",
        "from tqdm import tqdm\n",
        "import math\n",
        "import random\n",
        "import numpy as np"
      ]
    },
    {
      "cell_type": "code",
      "execution_count": null,
      "metadata": {
        "id": "MdjDF7WRF7UU"
      },
      "outputs": [],
      "source": [
        "# Set up your device \n",
        "cuda = torch.cuda.is_available()\n",
        "device = torch.device(\"cuda:0\" if cuda else \"cpu\")\n",
        "\n",
        "# The assertion is to make sure GPU is available\n",
        "assert cuda == True"
      ]
    },
    {
      "cell_type": "code",
      "execution_count": null,
      "metadata": {
        "id": "wXkKqcxiO6b3"
      },
      "outputs": [],
      "source": [
        "# Set up random seed to 1008. Do not change the random seed.\n",
        "# Yes, these are all necessary when you run experiments!\n",
        "seed = 1008\n",
        "random.seed(seed)\n",
        "np.random.seed(seed)\n",
        "torch.manual_seed(seed)\n",
        "if cuda:\n",
        "    torch.cuda.manual_seed(seed)\n",
        "    torch.cuda.manual_seed_all(seed)\n",
        "    torch.backends.cudnn.benchmark = False\n",
        "    torch.backends.cudnn.deterministic = True\n"
      ]
    },
    {
      "cell_type": "markdown",
      "metadata": {
        "id": "LLvOvdMbO9Qn"
      },
      "source": [
        "## Data\n",
        "The script below will download the required sentiment analysis data.\n",
        "\n",
        "Data folder will be visible in the Colab file-explorer pane, which is loacted at left side of the page.\n"
      ]
    },
    {
      "cell_type": "code",
      "execution_count": null,
      "metadata": {
        "id": "SxNT5mN-rHGD"
      },
      "outputs": [],
      "source": [
        "!wget --no-check-certificate 'https://docs.google.com/uc?export=download&id=1jqYJ9jhjukhXvEk4GnMAPYE-SvhSG24i' -O data.zip\n",
        "!unzip data.zip"
      ]
    },
    {
      "cell_type": "markdown",
      "metadata": {
        "id": "7teo5qvRPnYP"
      },
      "source": [
        "## Corpus\n",
        "Glove will be used as the word embedding tool in this assigment."
      ]
    },
    {
      "cell_type": "code",
      "execution_count": null,
      "metadata": {
        "id": "34dba6GT_EhP"
      },
      "outputs": [],
      "source": [
        "!wget http://nlp.stanford.edu/data/glove.6B.zip\n",
        "!unzip glove.6B.zip"
      ]
    },
    {
      "cell_type": "markdown",
      "metadata": {
        "id": "VPEcJ_L8QqZu"
      },
      "source": [
        "# Preprocess\n",
        "Preprocess data, then construct dataloader and vocabulary."
      ]
    },
    {
      "cell_type": "markdown",
      "metadata": {
        "id": "fXPeeetKXvWh"
      },
      "source": [
        "## Load Glove pretrained word embedding."
      ]
    },
    {
      "cell_type": "code",
      "execution_count": null,
      "metadata": {
        "id": "nADNNIT11U-P"
      },
      "outputs": [],
      "source": [
        "# TODO"
      ]
    },
    {
      "cell_type": "markdown",
      "metadata": {
        "id": "hOkdvhoeRHu3"
      },
      "source": [
        "## Construct your own vocabulary without other corpus.\n",
        "Hint: You should construct a vocabulary to map the word to index."
      ]
    },
    {
      "cell_type": "code",
      "execution_count": null,
      "metadata": {
        "id": "FXgxiqptBsAK"
      },
      "outputs": [],
      "source": [
        "# TODO"
      ]
    },
    {
      "cell_type": "markdown",
      "metadata": {
        "id": "zbw-0N7KQ6B2"
      },
      "source": [
        "## Load data\n",
        "Load data and construct dataloader."
      ]
    },
    {
      "cell_type": "code",
      "execution_count": null,
      "metadata": {
        "id": "p5zh-qrS_aAl"
      },
      "outputs": [],
      "source": [
        "data_dir = 'sentiment'\n",
        "# TODO"
      ]
    },
    {
      "cell_type": "markdown",
      "metadata": {
        "id": "MOfFQoClxPTl"
      },
      "source": [
        "# Model\n",
        "Bidirectional LSTM and attention mechanism will be used in this section."
      ]
    },
    {
      "cell_type": "markdown",
      "metadata": {
        "id": "mDPbq8VmEvdB"
      },
      "source": [
        "## Model Zoo"
      ]
    },
    {
      "cell_type": "code",
      "execution_count": null,
      "metadata": {
        "id": "vTyWAUr81oR9"
      },
      "outputs": [],
      "source": [
        "class BiRNN(nn.Module):\n",
        "    def __init__(self, vocab_size, embed_size, num_hiddens, num_layers, pretrained_embedding=None, **kwargs):\n",
        "        super(BiRNN, self).__init__()\n",
        "        if pretrained_embedding is None:\n",
        "            self.embedding = nn.Embedding(vocab_size, embed_size)\n",
        "        else:\n",
        "            self.embedding= nn.Embedding.from_pretrained(torch.tensor(pretrained_embedding, dtype=torch.float), freeze=True)\n",
        "        self.encoder = nn.LSTM(embed_size, num_hiddens, num_layers=num_layers, bidirectional=True, batch_first=True)\n",
        "        self.decoder = nn.Sequential(nn.Linear(4 * num_hiddens, num_hiddens), nn.Linear(num_hiddens, 3))\n",
        "\n",
        "    def forward(self, inputs):\n",
        "        embeddings = self.embedding(inputs)\n",
        "        self.encoder.flatten_parameters()\n",
        "        outputs, _ = self.encoder(embeddings)\n",
        "        encoding = torch.cat((outputs[:,0,:], outputs[:,-1,:]), dim=1)\n",
        "        outs = self.decoder(encoding)\n",
        "        return outs"
      ]
    },
    {
      "cell_type": "code",
      "execution_count": null,
      "metadata": {
        "id": "WBXSkgb41oVF"
      },
      "outputs": [],
      "source": [
        "class BiRNN_attention(nn.Module):\n",
        "    def __init__(self, vocab_size, embed_size, num_hiddens, num_layers, pretrained_embedding=None, **kwargs):\n",
        "        super(BiRNN_attention, self).__init__()\n",
        "        if pretrained_embedding is None:\n",
        "            self.embedding = nn.Embedding(vocab_size, embed_size)\n",
        "        else:\n",
        "            self.embedding = nn.Embedding.from_pretrained(torch.tensor(pretrained_embedding, dtype=torch.float),\n",
        "                                                          freeze=True)\n",
        "        self.encoder = nn.LSTM(embed_size, num_hiddens, num_layers=num_layers, bidirectional=True, batch_first=True)\n",
        "        self.weight_W = nn.Parameter(torch.Tensor(2 * num_hiddens, 2 * num_hiddens))\n",
        "        self.weight_proj = nn.Parameter(torch.Tensor(2 * num_hiddens, 1))\n",
        "\n",
        "        self.decoder = nn.Sequential(nn.Linear(2 * num_hiddens, num_hiddens), nn.Linear(num_hiddens, 3))\n",
        "        nn.init.uniform_(self.weight_W, -0.1, 0.1)\n",
        "        nn.init.uniform_(self.weight_proj, -0.1, 0.1)\n",
        "\n",
        "\n",
        "    def forward(self, inputs):\n",
        "        mask = 1 - torch.clamp(inputs, min=0, max=1)\n",
        "        embeddings = self.embedding(inputs)\n",
        "        states, hidden = self.encoder(embeddings.permute([0, 1, 2]))\n",
        "        u = torch.tanh(torch.matmul(states, self.weight_W))\n",
        "        att = torch.matmul(u, self.weight_proj)\n",
        "        att = att + mask.unsqueeze(2) * -1e7\n",
        "        att_score = F.softmax(att, dim=1)\n",
        "        scored_x = states * att_score\n",
        "        encoding = torch.sum(scored_x, dim=1)\n",
        "        outputs = self.decoder(encoding)\n",
        "\n",
        "        return outputs"
      ]
    },
    {
      "cell_type": "markdown",
      "metadata": {
        "id": "1HE235LrErqv"
      },
      "source": [
        "## Training\n",
        "You should train two models above with Glove pretrained word embedding and random initialized word embedding.\n",
        "\n",
        "Evaluation on the validation set and print out accuracy after training one epoch is required.\n",
        "\n",
        "You can tune some parameters and try different techniques, such as learning rate scheduler."
      ]
    },
    {
      "cell_type": "code",
      "execution_count": null,
      "metadata": {
        "id": "j3gbyRUXEPZP"
      },
      "outputs": [],
      "source": [
        "# Train BiRNN with Glove pretrained word embedding\n",
        "# TODO"
      ]
    },
    {
      "cell_type": "code",
      "execution_count": null,
      "metadata": {
        "id": "6rXFCb56GBOK"
      },
      "outputs": [],
      "source": [
        "# Train BiRNN without pretrained word embedding\n",
        "# TODO"
      ]
    },
    {
      "cell_type": "code",
      "execution_count": null,
      "metadata": {
        "id": "aeetQ2uZGBXf"
      },
      "outputs": [],
      "source": [
        "# Train BiRNN_attention with Glove pretrained embedding\n",
        "# TODO"
      ]
    },
    {
      "cell_type": "code",
      "execution_count": null,
      "metadata": {
        "id": "uiRSuAy0GBdJ"
      },
      "outputs": [],
      "source": [
        "# Train BiRNN_attention without pretrained word embedding\n",
        "# TODO"
      ]
    },
    {
      "cell_type": "markdown",
      "metadata": {
        "id": "Cpjn8StjHcY9"
      },
      "source": [
        "# Report (optional)\n",
        "You can briefly report what strategies you attempted in this assignment."
      ]
    }
  ],
  "metadata": {
    "accelerator": "GPU",
    "colab": {
      "collapsed_sections": [
        "KVAMnQR8xflq",
        "LLvOvdMbO9Qn",
        "7teo5qvRPnYP",
        "VPEcJ_L8QqZu",
        "fXPeeetKXvWh",
        "hOkdvhoeRHu3",
        "zbw-0N7KQ6B2",
        "MOfFQoClxPTl",
        "mDPbq8VmEvdB",
        "1HE235LrErqv"
      ],
      "include_colab_link": true,
      "provenance": []
    },
    "kernelspec": {
      "display_name": "Python 3.8.10 64-bit",
      "language": "python",
      "name": "python3"
    },
    "language_info": {
      "name": "python",
      "version": "3.8.10"
    },
    "vscode": {
      "interpreter": {
        "hash": "916dbcbb3f70747c44a77c7bcd40155683ae19c65e1c03b4aa3499c5328201f1"
      }
    }
  },
  "nbformat": 4,
  "nbformat_minor": 0
}
